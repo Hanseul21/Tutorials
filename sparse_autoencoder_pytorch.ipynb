{
 "cells": [
  {
   "cell_type": "markdown",
   "metadata": {},
   "source": [
    "- sparse autoencoder\n",
    "- tensorflow\n",
    "\n",
    "- mnist\n",
    "- 1-hidden layer"
   ]
  },
  {
   "cell_type": "code",
   "execution_count": 1,
   "metadata": {
    "scrolled": true
   },
   "outputs": [
    {
     "name": "stdout",
     "output_type": "stream",
     "text": [
      "WARNING:tensorflow:From <ipython-input-1-a8715ae54772>:8: read_data_sets (from tensorflow.contrib.learn.python.learn.datasets.mnist) is deprecated and will be removed in a future version.\n",
      "Instructions for updating:\n",
      "Please use alternatives such as official/mnist/dataset.py from tensorflow/models.\n",
      "WARNING:tensorflow:From /home/hanseul/.local/lib/python3.5/site-packages/tensorflow/contrib/learn/python/learn/datasets/mnist.py:260: maybe_download (from tensorflow.contrib.learn.python.learn.datasets.base) is deprecated and will be removed in a future version.\n",
      "Instructions for updating:\n",
      "Please write your own downloading logic.\n",
      "WARNING:tensorflow:From /home/hanseul/.local/lib/python3.5/site-packages/tensorflow/contrib/learn/python/learn/datasets/mnist.py:262: extract_images (from tensorflow.contrib.learn.python.learn.datasets.mnist) is deprecated and will be removed in a future version.\n",
      "Instructions for updating:\n",
      "Please use tf.data to implement this functionality.\n",
      "Extracting ./samples/MNIST_data/train-images-idx3-ubyte.gz\n",
      "WARNING:tensorflow:From /home/hanseul/.local/lib/python3.5/site-packages/tensorflow/contrib/learn/python/learn/datasets/mnist.py:267: extract_labels (from tensorflow.contrib.learn.python.learn.datasets.mnist) is deprecated and will be removed in a future version.\n",
      "Instructions for updating:\n",
      "Please use tf.data to implement this functionality.\n",
      "Extracting ./samples/MNIST_data/train-labels-idx1-ubyte.gz\n",
      "WARNING:tensorflow:From /home/hanseul/.local/lib/python3.5/site-packages/tensorflow/contrib/learn/python/learn/datasets/mnist.py:110: dense_to_one_hot (from tensorflow.contrib.learn.python.learn.datasets.mnist) is deprecated and will be removed in a future version.\n",
      "Instructions for updating:\n",
      "Please use tf.one_hot on tensors.\n",
      "Extracting ./samples/MNIST_data/t10k-images-idx3-ubyte.gz\n",
      "Extracting ./samples/MNIST_data/t10k-labels-idx1-ubyte.gz\n",
      "WARNING:tensorflow:From /home/hanseul/.local/lib/python3.5/site-packages/tensorflow/contrib/learn/python/learn/datasets/mnist.py:290: DataSet.__init__ (from tensorflow.contrib.learn.python.learn.datasets.mnist) is deprecated and will be removed in a future version.\n",
      "Instructions for updating:\n",
      "Please use alternatives such as official/mnist/dataset.py from tensorflow/models.\n"
     ]
    }
   ],
   "source": [
    "import tensorflow as tf\n",
    "import numpy as np\n",
    "from functools import partial\n",
    "import matplotlib.pyplot as plt\n",
    "import argparse\n",
    "from tensorflow.examples.tutorials.mnist import input_data\n",
    "# mnist dataset\n",
    "mnist = input_data.read_data_sets(\"./samples/MNIST_data/\", one_hot=True)"
   ]
  },
  {
   "cell_type": "code",
   "execution_count": 2,
   "metadata": {},
   "outputs": [],
   "source": [
    "# layer param\n",
    "n_inputs = 28*28\n",
    "n_hidden_1 = 10\n",
    "n_outputs = n_inputs\n",
    "n_test = 4\n",
    "\n",
    "# hyper param\n",
    "lr = 0.1\n",
    "n_epoch = 10\n",
    "n_iter = 1000\n",
    "weight_decay = 0.001\n",
    "threshold = 0.000001\n",
    "n_valid = 500 #print loss"
   ]
  },
  {
   "cell_type": "code",
   "execution_count": 3,
   "metadata": {},
   "outputs": [],
   "source": [
    "def imshow(test_input, test_output, row, col):\n",
    "    fig = plt.figure()\n",
    "    \n",
    "    for r in range(row):\n",
    "        ax = fig.add_subplot(row, col, 2*r+1)\n",
    "        ax.imshow(test_input[r].reshape(28,28))\n",
    "        ax.set_ylabel('{0} input'.format(r+1))\n",
    "\n",
    "        bx = fig.add_subplot(row, col, 2*r+2)\n",
    "        bx.imshow(test_output[r].reshape(28,28))\n",
    "        bx.set_ylabel('{0} output'.format(r+1))\n",
    "        \n",
    "    plt.show()"
   ]
  },
  {
   "cell_type": "code",
   "execution_count": 4,
   "metadata": {},
   "outputs": [],
   "source": [
    "# He initialize\n",
    "he_init = tf.keras.initializers.he_normal()\n",
    "\n",
    "# L2 regularization\n",
    "l2_regularizer = tf.contrib.layers.l2_regularizer(scale=weight_decay)\n",
    "dense = partial(tf.layers.dense,\n",
    "                activation = tf.nn.relu,\n",
    "                kernel_initializer = he_init,\n",
    "                kernel_regularizer = l2_regularizer)"
   ]
  },
  {
   "cell_type": "code",
   "execution_count": 5,
   "metadata": {},
   "outputs": [],
   "source": [
    "# stacked autoencoder\n",
    "X = tf.placeholder(tf.float32, shape=[None, n_inputs], name='input')\n",
    "hidden_1 = dense(X, n_hidden_1)\n",
    "output = dense(hidden_1, n_outputs)\n",
    "\n",
    "# loss\n",
    "recon_loss = tf.losses.mean_squared_error(labels=X, predictions=output)\n",
    "reg_loss = tf.get_collection(tf.GraphKeys.REGULARIZATION_LOSSES)\n",
    "total_loss = tf.add_n([recon_loss] + reg_loss)\n",
    "\n",
    "#optimizer\n",
    "optimizer = tf.train.AdagradOptimizer(lr).minimize(total_loss)"
   ]
  },
  {
   "cell_type": "code",
   "execution_count": 6,
   "metadata": {},
   "outputs": [
    {
     "name": "stdout",
     "output_type": "stream",
     "text": [
      " 0 epoch  500 iter : loss : 0.10004\n",
      " 0 epoch 1000 iter : loss : 0.08893\n",
      " 1 epoch  500 iter : loss : 0.08278\n",
      " 1 epoch 1000 iter : loss : 0.07927\n",
      " 2 epoch  500 iter : loss : 0.07718\n",
      " 2 epoch 1000 iter : loss : 0.07585\n",
      " 3 epoch  500 iter : loss : 0.07465\n",
      " 3 epoch 1000 iter : loss : 0.07324\n",
      " 4 epoch  500 iter : loss : 0.07192\n",
      " 4 epoch 1000 iter : loss : 0.07041\n",
      " 5 epoch  500 iter : loss : 0.06870\n",
      " 5 epoch 1000 iter : loss : 0.06602\n",
      " 6 epoch  500 iter : loss : 0.06281\n",
      " 6 epoch 1000 iter : loss : 0.05954\n",
      " 7 epoch  500 iter : loss : 0.05645\n",
      " 7 epoch 1000 iter : loss : 0.05415\n",
      " 8 epoch  500 iter : loss : 0.05230\n",
      " 8 epoch 1000 iter : loss : 0.05030\n",
      " 9 epoch  500 iter : loss : 0.04800\n",
      " 9 epoch 1000 iter : loss : 0.04643\n"
     ]
    }
   ],
   "source": [
    "with tf.Session() as sess:\n",
    "    tf.global_variables_initializer().run()\n",
    "    train_loss = 0.0\n",
    "    for epoch in range(n_epoch):\n",
    "        for iter in range(n_iter):\n",
    "            batch_x, batch_y = mnist.train.next_batch(n_iter)\n",
    "            loss, _ = sess.run([recon_loss, optimizer], feed_dict={X: batch_x})\n",
    "            train_loss += loss\n",
    "            \n",
    "            # check train loss \n",
    "            if (iter % n_valid) == n_valid-1:\n",
    "                print('{0:2d} epoch {1:4d} iter : loss : {2:.5f}'.format(epoch, iter+1, train_loss/n_valid))\n",
    "                train_loss = 0.0\n",
    "            if loss/n_iter < threshold:\n",
    "                break\n",
    "    ins = np.random.randint(10000)\n",
    "    test_input = mnist.test.images[ins:ins+n_test]\n",
    "    test_output = sess.run(output, feed_dict={X: test_input.reshape(n_test, 28*28)})"
   ]
  },
  {
   "cell_type": "code",
   "execution_count": 7,
   "metadata": {},
   "outputs": [
    {
     "data": {
      "image/png": "[encoded data removed]",
      "text/plain": [
       "<Figure size 432x288 with 8 Axes>"
      ]
     },
     "metadata": {
      "needs_background": "light"
     },
     "output_type": "display_data"
    }
   ],
   "source": [
    "# plot\n",
    "row = n_test\n",
    "col = 2\n",
    "imshow(test_input, test_output, row, col)"
   ]
  },
  {
   "cell_type": "code",
   "execution_count": null,
   "metadata": {},
   "outputs": [],
   "source": []
  }
 ],
 "metadata": {
  "anaconda-cloud": {},
  "kernelspec": {
   "display_name": "Python [conda env:anaconda3]",
   "language": "python",
   "name": "conda-env-anaconda3-py"
  },
  "language_info": {
   "codemirror_mode": {
    "name": "ipython",
    "version": 3
   },
   "file_extension": ".py",
   "mimetype": "text/x-python",
   "name": "python",
   "nbconvert_exporter": "python",
   "pygments_lexer": "ipython3",
   "version": "3.5.2"
  }
 },
 "nbformat": 4,
 "nbformat_minor": 2
}
